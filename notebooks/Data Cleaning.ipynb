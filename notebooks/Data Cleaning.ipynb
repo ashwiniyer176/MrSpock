{
 "cells": [
  {
   "cell_type": "markdown",
   "metadata": {},
   "source": [
    "## Data Cleaning and Preprocessing Notebook\n",
    "\n",
    "This notebook is to be strictly used for data cleaning and preprocessing purposes. Steps:\n",
    "\n",
    "1. Read the dataset\n",
    "2. Handle Missing Values (if any).\n",
    "3. Do visualizations as required\n",
    "4. Explore your data here\n",
    "5. Save the cleaned and processed dataset as `data/final_dataset.csv`.\n",
    "6. Split the dataset obtained in step 5 as `input/train.csv`,`input/test.csv`,`input/validation.csv`\n",
    "\n",
    "NO MODELLING WILL BE DONE IN THIS NOTEBOOK!"
   ]
  },
  {
   "cell_type": "code",
   "execution_count": 1,
   "metadata": {},
   "outputs": [],
   "source": [
    "import numpy as np\n",
    "import pandas as pd\n",
    "import matplotlib.pyplot as plt\n",
    "import seaborn as sns\n",
    "%matplotlib inline"
   ]
  },
  {
   "cell_type": "code",
   "execution_count": 2,
   "metadata": {},
   "outputs": [],
   "source": [
    "scripts=pd.read_json(\"../data/lines_by_episode.json\")"
   ]
  },
  {
   "cell_type": "code",
   "execution_count": 3,
   "metadata": {},
   "outputs": [],
   "source": [
    "dialogues=[]\n",
    "for e in scripts['TOS']['episodes']:\n",
    "    for line in e['lines']:\n",
    "        dialogues.append((line['author'],line['message']))\n"
   ]
  },
  {
   "cell_type": "code",
   "execution_count": 4,
   "metadata": {},
   "outputs": [
    {
     "data": {
      "text/plain": [
       "26632"
      ]
     },
     "execution_count": 4,
     "metadata": {},
     "output_type": "execute_result"
    }
   ],
   "source": [
    "len(dialogues)"
   ]
  },
  {
   "cell_type": "code",
   "execution_count": 5,
   "metadata": {},
   "outputs": [],
   "source": [
    "sum=0\n",
    "for i in range(len(scripts['TOS']['episodes'])):\n",
    "    sum+=len(scripts['TOS']['episodes'][i]['lines'])"
   ]
  },
  {
   "cell_type": "code",
   "execution_count": 6,
   "metadata": {},
   "outputs": [
    {
     "data": {
      "text/plain": [
       "26632"
      ]
     },
     "execution_count": 6,
     "metadata": {},
     "output_type": "execute_result"
    }
   ],
   "source": [
    "sum"
   ]
  },
  {
   "cell_type": "code",
   "execution_count": 7,
   "metadata": {},
   "outputs": [],
   "source": [
    "dialogues_df=pd.DataFrame(dialogues,columns=['Character','Message'])"
   ]
  },
  {
   "cell_type": "code",
   "execution_count": 8,
   "metadata": {},
   "outputs": [
    {
     "data": {
      "text/html": [
       "<div>\n",
       "<style scoped>\n",
       "    .dataframe tbody tr th:only-of-type {\n",
       "        vertical-align: middle;\n",
       "    }\n",
       "\n",
       "    .dataframe tbody tr th {\n",
       "        vertical-align: top;\n",
       "    }\n",
       "\n",
       "    .dataframe thead th {\n",
       "        text-align: right;\n",
       "    }\n",
       "</style>\n",
       "<table border=\"1\" class=\"dataframe\">\n",
       "  <thead>\n",
       "    <tr style=\"text-align: right;\">\n",
       "      <th></th>\n",
       "      <th>Character</th>\n",
       "      <th>Message</th>\n",
       "    </tr>\n",
       "  </thead>\n",
       "  <tbody>\n",
       "    <tr>\n",
       "      <th>0</th>\n",
       "      <td>TYLER</td>\n",
       "      <td>All operating, sir.</td>\n",
       "    </tr>\n",
       "    <tr>\n",
       "      <th>1</th>\n",
       "      <td>SPOCK</td>\n",
       "      <td>It can't be the screen then. Definitely someth...</td>\n",
       "    </tr>\n",
       "    <tr>\n",
       "      <th>2</th>\n",
       "      <td>TYLER</td>\n",
       "      <td>It could be these meteorites.</td>\n",
       "    </tr>\n",
       "    <tr>\n",
       "      <th>3</th>\n",
       "      <td>ONE</td>\n",
       "      <td>No, it's something else. There's still somethi...</td>\n",
       "    </tr>\n",
       "    <tr>\n",
       "      <th>4</th>\n",
       "      <td>TYLER</td>\n",
       "      <td>It's coming at the speed of light, collision c...</td>\n",
       "    </tr>\n",
       "    <tr>\n",
       "      <th>...</th>\n",
       "      <td>...</td>\n",
       "      <td>...</td>\n",
       "    </tr>\n",
       "    <tr>\n",
       "      <th>26627</th>\n",
       "      <td>COLEMAN</td>\n",
       "      <td>I'd like to take care of her.</td>\n",
       "    </tr>\n",
       "    <tr>\n",
       "      <th>26628</th>\n",
       "      <td>MCCOY</td>\n",
       "      <td>Of course. Come with me.</td>\n",
       "    </tr>\n",
       "    <tr>\n",
       "      <th>26629</th>\n",
       "      <td>KIRK</td>\n",
       "      <td>I didn't want to destroy her.</td>\n",
       "    </tr>\n",
       "    <tr>\n",
       "      <th>26630</th>\n",
       "      <td>SPOCK</td>\n",
       "      <td>I'm sure we all understand that, Captain.</td>\n",
       "    </tr>\n",
       "    <tr>\n",
       "      <th>26631</th>\n",
       "      <td>KIRK</td>\n",
       "      <td>Her life could have been as rich as any woman'...</td>\n",
       "    </tr>\n",
       "  </tbody>\n",
       "</table>\n",
       "<p>26632 rows × 2 columns</p>\n",
       "</div>"
      ],
      "text/plain": [
       "      Character                                            Message\n",
       "0         TYLER                                All operating, sir.\n",
       "1         SPOCK  It can't be the screen then. Definitely someth...\n",
       "2         TYLER                      It could be these meteorites.\n",
       "3           ONE  No, it's something else. There's still somethi...\n",
       "4         TYLER  It's coming at the speed of light, collision c...\n",
       "...         ...                                                ...\n",
       "26627   COLEMAN                      I'd like to take care of her.\n",
       "26628     MCCOY                           Of course. Come with me.\n",
       "26629      KIRK                      I didn't want to destroy her.\n",
       "26630     SPOCK          I'm sure we all understand that, Captain.\n",
       "26631      KIRK  Her life could have been as rich as any woman'...\n",
       "\n",
       "[26632 rows x 2 columns]"
      ]
     },
     "execution_count": 8,
     "metadata": {},
     "output_type": "execute_result"
    }
   ],
   "source": [
    "dialogues_df"
   ]
  },
  {
   "cell_type": "code",
   "execution_count": 9,
   "metadata": {},
   "outputs": [],
   "source": [
    "dialogues_df.to_csv(\"../input/Trek_TOS_Dialogues.csv\")"
   ]
  }
 ],
 "metadata": {
  "interpreter": {
   "hash": "c6129f50568a57fa84ae3d2a154839aaf8a7d207d60f5df1a1acd864dc47ffe3"
  },
  "kernelspec": {
   "display_name": "Python 3.9.0 ('NLP')",
   "language": "python",
   "name": "python3"
  },
  "language_info": {
   "codemirror_mode": {
    "name": "ipython",
    "version": 3
   },
   "file_extension": ".py",
   "mimetype": "text/x-python",
   "name": "python",
   "nbconvert_exporter": "python",
   "pygments_lexer": "ipython3",
   "version": "3.9.0"
  },
  "orig_nbformat": 4
 },
 "nbformat": 4,
 "nbformat_minor": 2
}
