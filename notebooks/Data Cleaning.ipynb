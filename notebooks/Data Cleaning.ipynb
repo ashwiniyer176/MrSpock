{
 "cells": [
  {
   "cell_type": "markdown",
   "metadata": {},
   "source": [
    "## Data Cleaning and Preprocessing Notebook\n",
    "\n",
    "This notebook is to be strictly used for data cleaning and preprocessing purposes. Steps:\n",
    "\n",
    "1. Read the dataset\n",
    "2. Handle Missing Values (if any).\n",
    "3. Do visualizations as required\n",
    "4. Explore your data here\n",
    "5. Save the cleaned and processed dataset as `data/final_dataset.csv`.\n",
    "6. Split the dataset obtained in step 5 as `input/train.csv`,`input/test.csv`,`input/validation.csv`\n",
    "\n",
    "NO MODELLING WILL BE DONE IN THIS NOTEBOOK!"
   ]
  },
  {
   "cell_type": "code",
   "execution_count": 1,
   "metadata": {},
   "outputs": [],
   "source": [
    "import numpy as np\n",
    "import pandas as pd\n",
    "import matplotlib.pyplot as plt\n",
    "import seaborn as sns\n",
    "%matplotlib inline"
   ]
  },
  {
   "cell_type": "code",
   "execution_count": 2,
   "metadata": {},
   "outputs": [],
   "source": [
    "scripts=pd.read_json(\"../data/all_scripts_raw.json\")"
   ]
  },
  {
   "cell_type": "code",
   "execution_count": 3,
   "metadata": {},
   "outputs": [],
   "source": [
    "episodes=scripts.index.tolist()"
   ]
  },
  {
   "cell_type": "code",
   "execution_count": 4,
   "metadata": {},
   "outputs": [],
   "source": [
    "episodes=episodes[:80]"
   ]
  },
  {
   "cell_type": "code",
   "execution_count": 5,
   "metadata": {},
   "outputs": [
    {
     "data": {
      "text/plain": [
       "['episode 0',\n",
       " 'episode 1',\n",
       " 'episode 2',\n",
       " 'episode 3',\n",
       " 'episode 4',\n",
       " 'episode 5',\n",
       " 'episode 6',\n",
       " 'episode 7',\n",
       " 'episode 8',\n",
       " 'episode 9',\n",
       " 'episode 10',\n",
       " 'episode 11',\n",
       " 'episode 12',\n",
       " 'episode 13',\n",
       " 'episode 14',\n",
       " 'episode 15',\n",
       " 'episode 16',\n",
       " 'episode 17',\n",
       " 'episode 18',\n",
       " 'episode 19',\n",
       " 'episode 20',\n",
       " 'episode 21',\n",
       " 'episode 22',\n",
       " 'episode 23',\n",
       " 'episode 24',\n",
       " 'episode 25',\n",
       " 'episode 26',\n",
       " 'episode 27',\n",
       " 'episode 28',\n",
       " 'episode 29',\n",
       " 'episode 30',\n",
       " 'episode 31',\n",
       " 'episode 32',\n",
       " 'episode 33',\n",
       " 'episode 34',\n",
       " 'episode 35',\n",
       " 'episode 36',\n",
       " 'episode 37',\n",
       " 'episode 38',\n",
       " 'episode 39',\n",
       " 'episode 40',\n",
       " 'episode 41',\n",
       " 'episode 42',\n",
       " 'episode 43',\n",
       " 'episode 44',\n",
       " 'episode 45',\n",
       " 'episode 46',\n",
       " 'episode 47',\n",
       " 'episode 48',\n",
       " 'episode 49',\n",
       " 'episode 50',\n",
       " 'episode 51',\n",
       " 'episode 52',\n",
       " 'episode 53',\n",
       " 'episode 54',\n",
       " 'episode 55',\n",
       " 'episode 56',\n",
       " 'episode 57',\n",
       " 'episode 58',\n",
       " 'episode 59',\n",
       " 'episode 60',\n",
       " 'episode 61',\n",
       " 'episode 62',\n",
       " 'episode 63',\n",
       " 'episode 64',\n",
       " 'episode 65',\n",
       " 'episode 66',\n",
       " 'episode 67',\n",
       " 'episode 68',\n",
       " 'episode 69',\n",
       " 'episode 70',\n",
       " 'episode 71',\n",
       " 'episode 72',\n",
       " 'episode 73',\n",
       " 'episode 74',\n",
       " 'episode 75',\n",
       " 'episode 76',\n",
       " 'episode 77',\n",
       " 'episode 78',\n",
       " 'episode 79']"
      ]
     },
     "execution_count": 5,
     "metadata": {},
     "output_type": "execute_result"
    }
   ],
   "source": [
    "episodes"
   ]
  },
  {
   "cell_type": "code",
   "execution_count": 6,
   "metadata": {},
   "outputs": [],
   "source": [
    "trek=\"TOS\""
   ]
  },
  {
   "cell_type": "code",
   "execution_count": 7,
   "metadata": {},
   "outputs": [],
   "source": [
    "episode_script={}\n",
    "for i,e in enumerate(episodes):\n",
    "    episode_script[e]=scripts.loc[e,trek]"
   ]
  },
  {
   "cell_type": "code",
   "execution_count": 8,
   "metadata": {},
   "outputs": [],
   "source": [
    "def clean_text(script):\n",
    "    script_clean=script.strip()\n",
    "    script_clean=script_clean.replace(\"\\n\",\"\")\n",
    "    script_clean=script_clean.replace(\"\\r\",\"\")\n",
    "    script_clean=script_clean.replace(\"\\r\\n\",\"\")\n",
    "    script_clean=re.sub(\"([\\(\\[]).*?([\\)\\]])\", \"\", script_clean)\n",
    "    script_clean=re.sub(r'\\.([a-zA-Z])', r'. \\1', script_clean) #remove missing whitespace between character lines.\n",
    "    script_clean=re.sub(r'\\!([a-zA-Z])', r'! \\1', script_clean)\n",
    "    script_clean=re.sub(r'\\?([a-zA-Z])', r'? \\1', script_clean)\n",
    "    script_clean=script_clean.replace(\"\\r\",\"\\n\")\n",
    "    return script_clean"
   ]
  },
  {
   "cell_type": "code",
   "execution_count": 9,
   "metadata": {},
   "outputs": [],
   "source": [
    "import re"
   ]
  },
  {
   "cell_type": "code",
   "execution_count": 10,
   "metadata": {},
   "outputs": [
    {
     "name": "stdout",
     "output_type": "stream",
     "text": [
      "episode 0\n",
      "episode 1\n",
      "episode 2\n",
      "episode 3\n",
      "episode 4\n",
      "episode 5\n",
      "episode 6\n",
      "episode 7\n",
      "episode 8\n",
      "episode 9\n",
      "episode 10\n",
      "episode 11\n",
      "episode 12\n",
      "episode 13\n",
      "episode 14\n",
      "episode 15\n",
      "episode 16\n",
      "episode 17\n",
      "episode 18\n",
      "episode 19\n",
      "episode 20\n",
      "episode 21\n",
      "episode 22\n",
      "episode 23\n",
      "episode 24\n",
      "episode 25\n",
      "episode 26\n",
      "episode 27\n",
      "episode 28\n",
      "episode 29\n",
      "episode 30\n",
      "episode 31\n",
      "episode 32\n",
      "episode 33\n",
      "episode 34\n",
      "episode 35\n",
      "episode 36\n",
      "episode 37\n",
      "episode 38\n",
      "episode 39\n",
      "episode 40\n",
      "episode 41\n",
      "episode 42\n",
      "episode 43\n",
      "episode 44\n",
      "episode 45\n",
      "episode 46\n",
      "episode 47\n",
      "episode 48\n",
      "episode 49\n",
      "episode 50\n",
      "episode 51\n",
      "episode 52\n",
      "episode 53\n",
      "episode 54\n",
      "episode 55\n",
      "episode 56\n",
      "episode 57\n",
      "episode 58\n",
      "episode 59\n",
      "episode 60\n",
      "episode 61\n",
      "episode 62\n",
      "episode 63\n",
      "episode 64\n",
      "episode 65\n",
      "episode 66\n",
      "episode 67\n",
      "episode 68\n",
      "episode 69\n",
      "episode 70\n",
      "episode 71\n",
      "episode 72\n",
      "episode 73\n",
      "episode 74\n",
      "episode 75\n",
      "episode 76\n",
      "episode 77\n",
      "episode 78\n",
      "episode 79\n"
     ]
    }
   ],
   "source": [
    "dialogues=[]\n",
    "for e in episodes:\n",
    "    x=re.findall(\"([a-zA-Z|\\s]+): (.+)\",episode_script[e])\n",
    "    print(e)\n",
    "    if len(x)>0:\n",
    "        dialogues.extend(x)"
   ]
  },
  {
   "cell_type": "code",
   "execution_count": 11,
   "metadata": {},
   "outputs": [],
   "source": [
    "dialogue_df=pd.DataFrame(dialogues,columns=[\"Speaker\",\"Dialogue\"])"
   ]
  },
  {
   "cell_type": "code",
   "execution_count": 12,
   "metadata": {},
   "outputs": [],
   "source": [
    "dialogue_df['Dialogue']=dialogue_df['Dialogue'].apply(lambda x:clean_text(x))\n",
    "dialogue_df['Speaker']=dialogue_df['Speaker'].apply(lambda x:clean_text(x))"
   ]
  },
  {
   "cell_type": "code",
   "execution_count": 13,
   "metadata": {},
   "outputs": [
    {
     "data": {
      "text/html": [
       "<div>\n",
       "<style scoped>\n",
       "    .dataframe tbody tr th:only-of-type {\n",
       "        vertical-align: middle;\n",
       "    }\n",
       "\n",
       "    .dataframe tbody tr th {\n",
       "        vertical-align: top;\n",
       "    }\n",
       "\n",
       "    .dataframe thead th {\n",
       "        text-align: right;\n",
       "    }\n",
       "</style>\n",
       "<table border=\"1\" class=\"dataframe\">\n",
       "  <thead>\n",
       "    <tr style=\"text-align: right;\">\n",
       "      <th></th>\n",
       "      <th>Speaker</th>\n",
       "      <th>Dialogue</th>\n",
       "    </tr>\n",
       "  </thead>\n",
       "  <tbody>\n",
       "    <tr>\n",
       "      <th>0</th>\n",
       "      <td>SPOCK</td>\n",
       "      <td>Check the circuit.</td>\n",
       "    </tr>\n",
       "    <tr>\n",
       "      <th>1</th>\n",
       "      <td>TYLER</td>\n",
       "      <td>All operating, sir.</td>\n",
       "    </tr>\n",
       "    <tr>\n",
       "      <th>2</th>\n",
       "      <td>SPOCK</td>\n",
       "      <td>It can't be the screen then. Definitely someth...</td>\n",
       "    </tr>\n",
       "    <tr>\n",
       "      <th>3</th>\n",
       "      <td>TYLER</td>\n",
       "      <td>It could be these meteorites.</td>\n",
       "    </tr>\n",
       "    <tr>\n",
       "      <th>4</th>\n",
       "      <td>ONE</td>\n",
       "      <td>No, it's something else. There's still somethi...</td>\n",
       "    </tr>\n",
       "    <tr>\n",
       "      <th>...</th>\n",
       "      <td>...</td>\n",
       "      <td>...</td>\n",
       "    </tr>\n",
       "    <tr>\n",
       "      <th>27468</th>\n",
       "      <td>COLEMAN</td>\n",
       "      <td>I'd like to take care of her.</td>\n",
       "    </tr>\n",
       "    <tr>\n",
       "      <th>27469</th>\n",
       "      <td>MCCOY</td>\n",
       "      <td>Of course. Come with me.</td>\n",
       "    </tr>\n",
       "    <tr>\n",
       "      <th>27470</th>\n",
       "      <td>KIRK</td>\n",
       "      <td>I didn't want to destroy her.</td>\n",
       "    </tr>\n",
       "    <tr>\n",
       "      <th>27471</th>\n",
       "      <td>SPOCK</td>\n",
       "      <td>I'm sure we all understand that, Captain.</td>\n",
       "    </tr>\n",
       "    <tr>\n",
       "      <th>27472</th>\n",
       "      <td>KIRK</td>\n",
       "      <td>Her life could have been as rich as any woman'...</td>\n",
       "    </tr>\n",
       "  </tbody>\n",
       "</table>\n",
       "<p>27473 rows × 2 columns</p>\n",
       "</div>"
      ],
      "text/plain": [
       "       Speaker                                           Dialogue\n",
       "0        SPOCK                                 Check the circuit.\n",
       "1        TYLER                                All operating, sir.\n",
       "2        SPOCK  It can't be the screen then. Definitely someth...\n",
       "3        TYLER                      It could be these meteorites.\n",
       "4          ONE  No, it's something else. There's still somethi...\n",
       "...        ...                                                ...\n",
       "27468  COLEMAN                      I'd like to take care of her.\n",
       "27469    MCCOY                           Of course. Come with me.\n",
       "27470     KIRK                      I didn't want to destroy her.\n",
       "27471    SPOCK          I'm sure we all understand that, Captain.\n",
       "27472     KIRK  Her life could have been as rich as any woman'...\n",
       "\n",
       "[27473 rows x 2 columns]"
      ]
     },
     "execution_count": 13,
     "metadata": {},
     "output_type": "execute_result"
    }
   ],
   "source": [
    "dialogue_df"
   ]
  },
  {
   "cell_type": "code",
   "execution_count": 14,
   "metadata": {},
   "outputs": [],
   "source": [
    "dialogue_df.to_csv(\"../data/Star_Trek_Dialogues.csv\",index=False)"
   ]
  },
  {
   "cell_type": "code",
   "execution_count": null,
   "metadata": {},
   "outputs": [],
   "source": []
  }
 ],
 "metadata": {
  "interpreter": {
   "hash": "c6129f50568a57fa84ae3d2a154839aaf8a7d207d60f5df1a1acd864dc47ffe3"
  },
  "kernelspec": {
   "display_name": "Python 3.9.0 ('NLP')",
   "language": "python",
   "name": "python3"
  },
  "language_info": {
   "codemirror_mode": {
    "name": "ipython",
    "version": 3
   },
   "file_extension": ".py",
   "mimetype": "text/x-python",
   "name": "python",
   "nbconvert_exporter": "python",
   "pygments_lexer": "ipython3",
   "version": "3.9.0"
  },
  "orig_nbformat": 4
 },
 "nbformat": 4,
 "nbformat_minor": 2
}
